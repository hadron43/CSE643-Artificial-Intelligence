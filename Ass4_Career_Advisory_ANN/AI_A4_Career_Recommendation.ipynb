{
  "nbformat": 4,
  "nbformat_minor": 0,
  "metadata": {
    "colab": {
      "provenance": []
    },
    "kernelspec": {
      "name": "python3",
      "display_name": "Python 3"
    },
    "language_info": {
      "name": "python"
    }
  },
  "cells": [
    {
      "cell_type": "markdown",
      "source": [
        "## Import Libraries"
      ],
      "metadata": {
        "id": "q4g2BiPT-FvB"
      }
    },
    {
      "cell_type": "code",
      "execution_count": 82,
      "metadata": {
        "id": "oqUbJU5bdAZ5"
      },
      "outputs": [],
      "source": [
        "import numpy as np\n",
        "import pandas as pd\n",
        "from sklearn.neural_network import MLPClassifier\n",
        "import seaborn as sns \n",
        "import matplotlib.pyplot as plt\n",
        "from sklearn.preprocessing import LabelEncoder\n",
        "from sklearn.preprocessing import StandardScaler\n",
        "from sklearn.model_selection import train_test_split\n",
        "from sklearn.metrics import confusion_matrix,classification_report"
      ]
    },
    {
      "cell_type": "markdown",
      "source": [
        "## Load Data"
      ],
      "metadata": {
        "id": "g8uqkOj89-Hf"
      }
    },
    {
      "cell_type": "code",
      "source": [
        "from google.colab import drive\n",
        "drive.mount('/content/gdrive/')\n",
        "%cd \"/content/gdrive/MyDrive/AI Data\""
      ],
      "metadata": {
        "colab": {
          "base_uri": "https://localhost:8080/"
        },
        "id": "02w6B3Yx94nY",
        "outputId": "bbcaf547-6274-45ee-a4fb-9c2a164609f3"
      },
      "execution_count": 2,
      "outputs": [
        {
          "output_type": "stream",
          "name": "stdout",
          "text": [
            "Mounted at /content/gdrive/\n",
            "/content/gdrive/MyDrive/AI Data\n"
          ]
        }
      ]
    },
    {
      "cell_type": "code",
      "source": [
        "data = pd.read_csv(\"roo_data.csv\")\n",
        "data.head(2)"
      ],
      "metadata": {
        "colab": {
          "base_uri": "https://localhost:8080/",
          "height": 310
        },
        "id": "jT5QnRkn-o6E",
        "outputId": "3517e382-0320-41db-9eba-26e6d283d142"
      },
      "execution_count": 39,
      "outputs": [
        {
          "output_type": "execute_result",
          "data": {
            "text/plain": [
              "   Acedamic percentage in Operating Systems  percentage in Algorithms  \\\n",
              "0                                        69                        63   \n",
              "1                                        78                        62   \n",
              "\n",
              "   Percentage in Programming Concepts  Percentage in Software Engineering  \\\n",
              "0                                  78                                  87   \n",
              "1                                  73                                  60   \n",
              "\n",
              "   Percentage in Computer Networks  Percentage in Electronics Subjects  \\\n",
              "0                               94                                  94   \n",
              "1                               71                                  70   \n",
              "\n",
              "   Percentage in Computer Architecture  Percentage in Mathematics  \\\n",
              "0                                   87                         84   \n",
              "1                                   73                         84   \n",
              "\n",
              "   Percentage in Communication skills  Hours working per day  ...  \\\n",
              "0                                  61                      9  ...   \n",
              "1                                  91                     12  ...   \n",
              "\n",
              "   Interested Type of Books  Salary Range Expected  In a Realtionship?  \\\n",
              "0              Prayer books                 salary                  no   \n",
              "1                 Childrens                 salary                 yes   \n",
              "\n",
              "   Gentle or Tuff behaviour? Management or Technical Salary/work  \\\n",
              "0                   stubborn              Management      salary   \n",
              "1                     gentle               Technical      salary   \n",
              "\n",
              "  hard/smart worker worked in teams ever? Introvert    Suggested Job Role  \n",
              "0       hard worker                   yes        no    Database Developer  \n",
              "1       hard worker                    no       yes  Portal Administrator  \n",
              "\n",
              "[2 rows x 39 columns]"
            ],
            "text/html": [
              "\n",
              "  <div id=\"df-ee0af355-f685-47b8-9702-dac5218663d5\">\n",
              "    <div class=\"colab-df-container\">\n",
              "      <div>\n",
              "<style scoped>\n",
              "    .dataframe tbody tr th:only-of-type {\n",
              "        vertical-align: middle;\n",
              "    }\n",
              "\n",
              "    .dataframe tbody tr th {\n",
              "        vertical-align: top;\n",
              "    }\n",
              "\n",
              "    .dataframe thead th {\n",
              "        text-align: right;\n",
              "    }\n",
              "</style>\n",
              "<table border=\"1\" class=\"dataframe\">\n",
              "  <thead>\n",
              "    <tr style=\"text-align: right;\">\n",
              "      <th></th>\n",
              "      <th>Acedamic percentage in Operating Systems</th>\n",
              "      <th>percentage in Algorithms</th>\n",
              "      <th>Percentage in Programming Concepts</th>\n",
              "      <th>Percentage in Software Engineering</th>\n",
              "      <th>Percentage in Computer Networks</th>\n",
              "      <th>Percentage in Electronics Subjects</th>\n",
              "      <th>Percentage in Computer Architecture</th>\n",
              "      <th>Percentage in Mathematics</th>\n",
              "      <th>Percentage in Communication skills</th>\n",
              "      <th>Hours working per day</th>\n",
              "      <th>...</th>\n",
              "      <th>Interested Type of Books</th>\n",
              "      <th>Salary Range Expected</th>\n",
              "      <th>In a Realtionship?</th>\n",
              "      <th>Gentle or Tuff behaviour?</th>\n",
              "      <th>Management or Technical</th>\n",
              "      <th>Salary/work</th>\n",
              "      <th>hard/smart worker</th>\n",
              "      <th>worked in teams ever?</th>\n",
              "      <th>Introvert</th>\n",
              "      <th>Suggested Job Role</th>\n",
              "    </tr>\n",
              "  </thead>\n",
              "  <tbody>\n",
              "    <tr>\n",
              "      <th>0</th>\n",
              "      <td>69</td>\n",
              "      <td>63</td>\n",
              "      <td>78</td>\n",
              "      <td>87</td>\n",
              "      <td>94</td>\n",
              "      <td>94</td>\n",
              "      <td>87</td>\n",
              "      <td>84</td>\n",
              "      <td>61</td>\n",
              "      <td>9</td>\n",
              "      <td>...</td>\n",
              "      <td>Prayer books</td>\n",
              "      <td>salary</td>\n",
              "      <td>no</td>\n",
              "      <td>stubborn</td>\n",
              "      <td>Management</td>\n",
              "      <td>salary</td>\n",
              "      <td>hard worker</td>\n",
              "      <td>yes</td>\n",
              "      <td>no</td>\n",
              "      <td>Database Developer</td>\n",
              "    </tr>\n",
              "    <tr>\n",
              "      <th>1</th>\n",
              "      <td>78</td>\n",
              "      <td>62</td>\n",
              "      <td>73</td>\n",
              "      <td>60</td>\n",
              "      <td>71</td>\n",
              "      <td>70</td>\n",
              "      <td>73</td>\n",
              "      <td>84</td>\n",
              "      <td>91</td>\n",
              "      <td>12</td>\n",
              "      <td>...</td>\n",
              "      <td>Childrens</td>\n",
              "      <td>salary</td>\n",
              "      <td>yes</td>\n",
              "      <td>gentle</td>\n",
              "      <td>Technical</td>\n",
              "      <td>salary</td>\n",
              "      <td>hard worker</td>\n",
              "      <td>no</td>\n",
              "      <td>yes</td>\n",
              "      <td>Portal Administrator</td>\n",
              "    </tr>\n",
              "  </tbody>\n",
              "</table>\n",
              "<p>2 rows × 39 columns</p>\n",
              "</div>\n",
              "      <button class=\"colab-df-convert\" onclick=\"convertToInteractive('df-ee0af355-f685-47b8-9702-dac5218663d5')\"\n",
              "              title=\"Convert this dataframe to an interactive table.\"\n",
              "              style=\"display:none;\">\n",
              "        \n",
              "  <svg xmlns=\"http://www.w3.org/2000/svg\" height=\"24px\"viewBox=\"0 0 24 24\"\n",
              "       width=\"24px\">\n",
              "    <path d=\"M0 0h24v24H0V0z\" fill=\"none\"/>\n",
              "    <path d=\"M18.56 5.44l.94 2.06.94-2.06 2.06-.94-2.06-.94-.94-2.06-.94 2.06-2.06.94zm-11 1L8.5 8.5l.94-2.06 2.06-.94-2.06-.94L8.5 2.5l-.94 2.06-2.06.94zm10 10l.94 2.06.94-2.06 2.06-.94-2.06-.94-.94-2.06-.94 2.06-2.06.94z\"/><path d=\"M17.41 7.96l-1.37-1.37c-.4-.4-.92-.59-1.43-.59-.52 0-1.04.2-1.43.59L10.3 9.45l-7.72 7.72c-.78.78-.78 2.05 0 2.83L4 21.41c.39.39.9.59 1.41.59.51 0 1.02-.2 1.41-.59l7.78-7.78 2.81-2.81c.8-.78.8-2.07 0-2.86zM5.41 20L4 18.59l7.72-7.72 1.47 1.35L5.41 20z\"/>\n",
              "  </svg>\n",
              "      </button>\n",
              "      \n",
              "  <style>\n",
              "    .colab-df-container {\n",
              "      display:flex;\n",
              "      flex-wrap:wrap;\n",
              "      gap: 12px;\n",
              "    }\n",
              "\n",
              "    .colab-df-convert {\n",
              "      background-color: #E8F0FE;\n",
              "      border: none;\n",
              "      border-radius: 50%;\n",
              "      cursor: pointer;\n",
              "      display: none;\n",
              "      fill: #1967D2;\n",
              "      height: 32px;\n",
              "      padding: 0 0 0 0;\n",
              "      width: 32px;\n",
              "    }\n",
              "\n",
              "    .colab-df-convert:hover {\n",
              "      background-color: #E2EBFA;\n",
              "      box-shadow: 0px 1px 2px rgba(60, 64, 67, 0.3), 0px 1px 3px 1px rgba(60, 64, 67, 0.15);\n",
              "      fill: #174EA6;\n",
              "    }\n",
              "\n",
              "    [theme=dark] .colab-df-convert {\n",
              "      background-color: #3B4455;\n",
              "      fill: #D2E3FC;\n",
              "    }\n",
              "\n",
              "    [theme=dark] .colab-df-convert:hover {\n",
              "      background-color: #434B5C;\n",
              "      box-shadow: 0px 1px 3px 1px rgba(0, 0, 0, 0.15);\n",
              "      filter: drop-shadow(0px 1px 2px rgba(0, 0, 0, 0.3));\n",
              "      fill: #FFFFFF;\n",
              "    }\n",
              "  </style>\n",
              "\n",
              "      <script>\n",
              "        const buttonEl =\n",
              "          document.querySelector('#df-ee0af355-f685-47b8-9702-dac5218663d5 button.colab-df-convert');\n",
              "        buttonEl.style.display =\n",
              "          google.colab.kernel.accessAllowed ? 'block' : 'none';\n",
              "\n",
              "        async function convertToInteractive(key) {\n",
              "          const element = document.querySelector('#df-ee0af355-f685-47b8-9702-dac5218663d5');\n",
              "          const dataTable =\n",
              "            await google.colab.kernel.invokeFunction('convertToInteractive',\n",
              "                                                     [key], {});\n",
              "          if (!dataTable) return;\n",
              "\n",
              "          const docLinkHtml = 'Like what you see? Visit the ' +\n",
              "            '<a target=\"_blank\" href=https://colab.research.google.com/notebooks/data_table.ipynb>data table notebook</a>'\n",
              "            + ' to learn more about interactive tables.';\n",
              "          element.innerHTML = '';\n",
              "          dataTable['output_type'] = 'display_data';\n",
              "          await google.colab.output.renderOutput(dataTable, element);\n",
              "          const docLink = document.createElement('div');\n",
              "          docLink.innerHTML = docLinkHtml;\n",
              "          element.appendChild(docLink);\n",
              "        }\n",
              "      </script>\n",
              "    </div>\n",
              "  </div>\n",
              "  "
            ]
          },
          "metadata": {},
          "execution_count": 39
        }
      ]
    },
    {
      "cell_type": "code",
      "source": [
        "data.columns"
      ],
      "metadata": {
        "colab": {
          "base_uri": "https://localhost:8080/"
        },
        "id": "8gZyg7u2_lIc",
        "outputId": "15d85888-6919-4cc8-c1d3-2f1ab0c50d6c"
      },
      "execution_count": 4,
      "outputs": [
        {
          "output_type": "execute_result",
          "data": {
            "text/plain": [
              "Index(['Acedamic percentage in Operating Systems', 'percentage in Algorithms',\n",
              "       'Percentage in Programming Concepts',\n",
              "       'Percentage in Software Engineering', 'Percentage in Computer Networks',\n",
              "       'Percentage in Electronics Subjects',\n",
              "       'Percentage in Computer Architecture', 'Percentage in Mathematics',\n",
              "       'Percentage in Communication skills', 'Hours working per day',\n",
              "       'Logical quotient rating', 'hackathons', 'coding skills rating',\n",
              "       'public speaking points', 'can work long time before system?',\n",
              "       'self-learning capability?', 'Extra-courses did', 'certifications',\n",
              "       'workshops', 'talenttests taken?', 'olympiads',\n",
              "       'reading and writing skills', 'memory capability score',\n",
              "       'Interested subjects', 'interested career area ', 'Job/Higher Studies?',\n",
              "       'Type of company want to settle in?',\n",
              "       'Taken inputs from seniors or elders', 'interested in games',\n",
              "       'Interested Type of Books', 'Salary Range Expected',\n",
              "       'In a Realtionship?', 'Gentle or Tuff behaviour?',\n",
              "       'Management or Technical', 'Salary/work', 'hard/smart worker',\n",
              "       'worked in teams ever?', 'Introvert', 'Suggested Job Role'],\n",
              "      dtype='object')"
            ]
          },
          "metadata": {},
          "execution_count": 4
        }
      ]
    },
    {
      "cell_type": "code",
      "source": [
        "category_cols = []\n",
        "\n",
        "for col in data.columns:\n",
        "    if data[col].dtype == 'object':\n",
        "        category_cols.append(col)"
      ],
      "metadata": {
        "id": "Gh1bBRP7vSxW"
      },
      "execution_count": 6,
      "outputs": []
    },
    {
      "cell_type": "markdown",
      "source": [
        "## Process Data"
      ],
      "metadata": {
        "id": "shgZO6_Gv5iN"
      }
    },
    {
      "cell_type": "code",
      "source": [
        "conversion_map = {\n",
        "    'Introvert': {'yes': 1, 'no': 0}, 'worked in teams ever?': {'yes': 1, 'no': 0},\n",
        "    'hard/smart worker': {'hard worker': 1, 'smart worker': 0},\n",
        "    'Salary/work': {'salary': 1, 'work':0},\n",
        "    'Management or Technical': {'Management': 1, 'Technical': 0},\n",
        "    'Gentle or Tuff behaviour?': {'gentle': 1, 'stubborn': 0},\n",
        "    'Salary Range Expected': {'salary': 1, 'Work': 0},\n",
        "    'interested in games': {'yes': 1, 'no':0}, 'In a Realtionship?': {'yes': 1, 'no':0},\n",
        "    'Taken inputs from seniors or elders': {'yes': 1, 'no': 0},\n",
        "    'Job/Higher Studies?': {'job': 1, 'higherstudies': 0},\n",
        "    'memory capability score': {'excellent': 1, 'medium': 0,'poor': -1},\n",
        "    'reading and writing skills': {'excellent': 1, 'medium': 0,'poor': -1},\n",
        "    'olympiads': {'yes':1, 'no': 0},'self-learning capability?': {'yes': 1, 'no': 0},\n",
        "    'talenttests taken?': {'yes': 1, 'no': 0},'Extra-courses did': {'yes': 1, 'no': 0},\n",
        "    'can work long time before system?':{'yes': 1, 'no': 0}               \n",
        "}\n",
        "\n",
        "data.replace(conversion_map,inplace=True)   \n",
        "data.shape  "
      ],
      "metadata": {
        "colab": {
          "base_uri": "https://localhost:8080/"
        },
        "id": "aIGrRS3Hv-sN",
        "outputId": "9e96a86a-43f7-46e7-bf35-fe6a19446e6d"
      },
      "execution_count": 40,
      "outputs": [
        {
          "output_type": "execute_result",
          "data": {
            "text/plain": [
              "(20000, 39)"
            ]
          },
          "metadata": {},
          "execution_count": 40
        }
      ]
    },
    {
      "cell_type": "code",
      "source": [
        "courses_cols = [\"Acedamic percentage in Operating Systems\",\n",
        "\"percentage in Algorithms\",\n",
        "\"Percentage in Programming Concepts\",\n",
        "\"Percentage in Software Engineering\",\n",
        "\"Percentage in Computer Networks\",\n",
        "\"Percentage in Electronics Subjects\",\n",
        "\"Percentage in Computer Architecture\",\n",
        "\"Percentage in Mathematics\",\n",
        "\"Percentage in Communication skills\"]\n",
        "\n",
        "# convertion grades into three possible values\n",
        "# 0 -> bad, 1 -> avg, 2 -> good\n",
        "for col in courses_cols:\n",
        "    data[col] = data[col] // 34\n",
        "\n",
        "data.head(2)"
      ],
      "metadata": {
        "colab": {
          "base_uri": "https://localhost:8080/",
          "height": 310
        },
        "id": "xpXxxnSixwY5",
        "outputId": "1438cc8a-d22b-4cbc-9e57-5f8083cc5ac7"
      },
      "execution_count": 41,
      "outputs": [
        {
          "output_type": "execute_result",
          "data": {
            "text/plain": [
              "   Acedamic percentage in Operating Systems  percentage in Algorithms  \\\n",
              "0                                         2                         1   \n",
              "1                                         2                         1   \n",
              "\n",
              "   Percentage in Programming Concepts  Percentage in Software Engineering  \\\n",
              "0                                   2                                   2   \n",
              "1                                   2                                   1   \n",
              "\n",
              "   Percentage in Computer Networks  Percentage in Electronics Subjects  \\\n",
              "0                                2                                   2   \n",
              "1                                2                                   2   \n",
              "\n",
              "   Percentage in Computer Architecture  Percentage in Mathematics  \\\n",
              "0                                    2                          2   \n",
              "1                                    2                          2   \n",
              "\n",
              "   Percentage in Communication skills  Hours working per day  ...  \\\n",
              "0                                   1                      9  ...   \n",
              "1                                   2                     12  ...   \n",
              "\n",
              "   Interested Type of Books  Salary Range Expected  In a Realtionship?  \\\n",
              "0              Prayer books                      1                   0   \n",
              "1                 Childrens                      1                   1   \n",
              "\n",
              "   Gentle or Tuff behaviour?  Management or Technical  Salary/work  \\\n",
              "0                          0                        1            1   \n",
              "1                          1                        0            1   \n",
              "\n",
              "   hard/smart worker worked in teams ever? Introvert    Suggested Job Role  \n",
              "0                  1                     1         0    Database Developer  \n",
              "1                  1                     0         1  Portal Administrator  \n",
              "\n",
              "[2 rows x 39 columns]"
            ],
            "text/html": [
              "\n",
              "  <div id=\"df-9fc140b1-df64-4a9d-a5b5-ba1cc78215d0\">\n",
              "    <div class=\"colab-df-container\">\n",
              "      <div>\n",
              "<style scoped>\n",
              "    .dataframe tbody tr th:only-of-type {\n",
              "        vertical-align: middle;\n",
              "    }\n",
              "\n",
              "    .dataframe tbody tr th {\n",
              "        vertical-align: top;\n",
              "    }\n",
              "\n",
              "    .dataframe thead th {\n",
              "        text-align: right;\n",
              "    }\n",
              "</style>\n",
              "<table border=\"1\" class=\"dataframe\">\n",
              "  <thead>\n",
              "    <tr style=\"text-align: right;\">\n",
              "      <th></th>\n",
              "      <th>Acedamic percentage in Operating Systems</th>\n",
              "      <th>percentage in Algorithms</th>\n",
              "      <th>Percentage in Programming Concepts</th>\n",
              "      <th>Percentage in Software Engineering</th>\n",
              "      <th>Percentage in Computer Networks</th>\n",
              "      <th>Percentage in Electronics Subjects</th>\n",
              "      <th>Percentage in Computer Architecture</th>\n",
              "      <th>Percentage in Mathematics</th>\n",
              "      <th>Percentage in Communication skills</th>\n",
              "      <th>Hours working per day</th>\n",
              "      <th>...</th>\n",
              "      <th>Interested Type of Books</th>\n",
              "      <th>Salary Range Expected</th>\n",
              "      <th>In a Realtionship?</th>\n",
              "      <th>Gentle or Tuff behaviour?</th>\n",
              "      <th>Management or Technical</th>\n",
              "      <th>Salary/work</th>\n",
              "      <th>hard/smart worker</th>\n",
              "      <th>worked in teams ever?</th>\n",
              "      <th>Introvert</th>\n",
              "      <th>Suggested Job Role</th>\n",
              "    </tr>\n",
              "  </thead>\n",
              "  <tbody>\n",
              "    <tr>\n",
              "      <th>0</th>\n",
              "      <td>2</td>\n",
              "      <td>1</td>\n",
              "      <td>2</td>\n",
              "      <td>2</td>\n",
              "      <td>2</td>\n",
              "      <td>2</td>\n",
              "      <td>2</td>\n",
              "      <td>2</td>\n",
              "      <td>1</td>\n",
              "      <td>9</td>\n",
              "      <td>...</td>\n",
              "      <td>Prayer books</td>\n",
              "      <td>1</td>\n",
              "      <td>0</td>\n",
              "      <td>0</td>\n",
              "      <td>1</td>\n",
              "      <td>1</td>\n",
              "      <td>1</td>\n",
              "      <td>1</td>\n",
              "      <td>0</td>\n",
              "      <td>Database Developer</td>\n",
              "    </tr>\n",
              "    <tr>\n",
              "      <th>1</th>\n",
              "      <td>2</td>\n",
              "      <td>1</td>\n",
              "      <td>2</td>\n",
              "      <td>1</td>\n",
              "      <td>2</td>\n",
              "      <td>2</td>\n",
              "      <td>2</td>\n",
              "      <td>2</td>\n",
              "      <td>2</td>\n",
              "      <td>12</td>\n",
              "      <td>...</td>\n",
              "      <td>Childrens</td>\n",
              "      <td>1</td>\n",
              "      <td>1</td>\n",
              "      <td>1</td>\n",
              "      <td>0</td>\n",
              "      <td>1</td>\n",
              "      <td>1</td>\n",
              "      <td>0</td>\n",
              "      <td>1</td>\n",
              "      <td>Portal Administrator</td>\n",
              "    </tr>\n",
              "  </tbody>\n",
              "</table>\n",
              "<p>2 rows × 39 columns</p>\n",
              "</div>\n",
              "      <button class=\"colab-df-convert\" onclick=\"convertToInteractive('df-9fc140b1-df64-4a9d-a5b5-ba1cc78215d0')\"\n",
              "              title=\"Convert this dataframe to an interactive table.\"\n",
              "              style=\"display:none;\">\n",
              "        \n",
              "  <svg xmlns=\"http://www.w3.org/2000/svg\" height=\"24px\"viewBox=\"0 0 24 24\"\n",
              "       width=\"24px\">\n",
              "    <path d=\"M0 0h24v24H0V0z\" fill=\"none\"/>\n",
              "    <path d=\"M18.56 5.44l.94 2.06.94-2.06 2.06-.94-2.06-.94-.94-2.06-.94 2.06-2.06.94zm-11 1L8.5 8.5l.94-2.06 2.06-.94-2.06-.94L8.5 2.5l-.94 2.06-2.06.94zm10 10l.94 2.06.94-2.06 2.06-.94-2.06-.94-.94-2.06-.94 2.06-2.06.94z\"/><path d=\"M17.41 7.96l-1.37-1.37c-.4-.4-.92-.59-1.43-.59-.52 0-1.04.2-1.43.59L10.3 9.45l-7.72 7.72c-.78.78-.78 2.05 0 2.83L4 21.41c.39.39.9.59 1.41.59.51 0 1.02-.2 1.41-.59l7.78-7.78 2.81-2.81c.8-.78.8-2.07 0-2.86zM5.41 20L4 18.59l7.72-7.72 1.47 1.35L5.41 20z\"/>\n",
              "  </svg>\n",
              "      </button>\n",
              "      \n",
              "  <style>\n",
              "    .colab-df-container {\n",
              "      display:flex;\n",
              "      flex-wrap:wrap;\n",
              "      gap: 12px;\n",
              "    }\n",
              "\n",
              "    .colab-df-convert {\n",
              "      background-color: #E8F0FE;\n",
              "      border: none;\n",
              "      border-radius: 50%;\n",
              "      cursor: pointer;\n",
              "      display: none;\n",
              "      fill: #1967D2;\n",
              "      height: 32px;\n",
              "      padding: 0 0 0 0;\n",
              "      width: 32px;\n",
              "    }\n",
              "\n",
              "    .colab-df-convert:hover {\n",
              "      background-color: #E2EBFA;\n",
              "      box-shadow: 0px 1px 2px rgba(60, 64, 67, 0.3), 0px 1px 3px 1px rgba(60, 64, 67, 0.15);\n",
              "      fill: #174EA6;\n",
              "    }\n",
              "\n",
              "    [theme=dark] .colab-df-convert {\n",
              "      background-color: #3B4455;\n",
              "      fill: #D2E3FC;\n",
              "    }\n",
              "\n",
              "    [theme=dark] .colab-df-convert:hover {\n",
              "      background-color: #434B5C;\n",
              "      box-shadow: 0px 1px 3px 1px rgba(0, 0, 0, 0.15);\n",
              "      filter: drop-shadow(0px 1px 2px rgba(0, 0, 0, 0.3));\n",
              "      fill: #FFFFFF;\n",
              "    }\n",
              "  </style>\n",
              "\n",
              "      <script>\n",
              "        const buttonEl =\n",
              "          document.querySelector('#df-9fc140b1-df64-4a9d-a5b5-ba1cc78215d0 button.colab-df-convert');\n",
              "        buttonEl.style.display =\n",
              "          google.colab.kernel.accessAllowed ? 'block' : 'none';\n",
              "\n",
              "        async function convertToInteractive(key) {\n",
              "          const element = document.querySelector('#df-9fc140b1-df64-4a9d-a5b5-ba1cc78215d0');\n",
              "          const dataTable =\n",
              "            await google.colab.kernel.invokeFunction('convertToInteractive',\n",
              "                                                     [key], {});\n",
              "          if (!dataTable) return;\n",
              "\n",
              "          const docLinkHtml = 'Like what you see? Visit the ' +\n",
              "            '<a target=\"_blank\" href=https://colab.research.google.com/notebooks/data_table.ipynb>data table notebook</a>'\n",
              "            + ' to learn more about interactive tables.';\n",
              "          element.innerHTML = '';\n",
              "          dataTable['output_type'] = 'display_data';\n",
              "          await google.colab.output.renderOutput(dataTable, element);\n",
              "          const docLink = document.createElement('div');\n",
              "          docLink.innerHTML = docLinkHtml;\n",
              "          element.appendChild(docLink);\n",
              "        }\n",
              "      </script>\n",
              "    </div>\n",
              "  </div>\n",
              "  "
            ]
          },
          "metadata": {},
          "execution_count": 41
        }
      ]
    },
    {
      "cell_type": "code",
      "source": [
        "X = data.drop('Suggested Job Role', axis=1)\n",
        "encoded_X = pd.get_dummies(X, prefix_sep='_', drop_first = True)\n",
        "y = data['Suggested Job Role']\n",
        "\n",
        "encoded_X.shape,y.shape"
      ],
      "metadata": {
        "colab": {
          "base_uri": "https://localhost:8080/"
        },
        "id": "ut4D8w7IzGy5",
        "outputId": "d6775775-33e9-4be4-82d2-b15d563dbc89"
      },
      "execution_count": 42,
      "outputs": [
        {
          "output_type": "execute_result",
          "data": {
            "text/plain": [
              "((20000, 100), (20000,))"
            ]
          },
          "metadata": {},
          "execution_count": 42
        }
      ]
    },
    {
      "cell_type": "code",
      "source": [
        "y.unique()"
      ],
      "metadata": {
        "colab": {
          "base_uri": "https://localhost:8080/"
        },
        "id": "Tjhwwr7n1plB",
        "outputId": "fa423168-8b83-482a-a0b2-e4e2151c8452"
      },
      "execution_count": 14,
      "outputs": [
        {
          "output_type": "execute_result",
          "data": {
            "text/plain": [
              "array(['Database Developer', 'Portal Administrator',\n",
              "       'Systems Security Administrator', 'Business Systems Analyst',\n",
              "       'Software Systems Engineer', 'Business Intelligence Analyst',\n",
              "       'CRM Technical Developer', 'Mobile Applications Developer',\n",
              "       'UX Designer', 'Quality Assurance Associate', 'Web Developer',\n",
              "       'Information Security Analyst', 'CRM Business Analyst',\n",
              "       'Technical Support', 'Project Manager',\n",
              "       'Information Technology Manager', 'Programmer Analyst',\n",
              "       'Design & UX', 'Solutions Architect', 'Systems Analyst',\n",
              "       'Network Security Administrator', 'Data Architect',\n",
              "       'Software Developer', 'E-Commerce Analyst',\n",
              "       'Technical Services/Help Desk/Tech Support',\n",
              "       'Information Technology Auditor', 'Database Manager',\n",
              "       'Applications Developer', 'Database Administrator',\n",
              "       'Network Engineer', 'Software Engineer', 'Technical Engineer',\n",
              "       'Network Security Engineer',\n",
              "       'Software Quality Assurance (QA) / Testing'], dtype=object)"
            ]
          },
          "metadata": {},
          "execution_count": 14
        }
      ]
    },
    {
      "cell_type": "markdown",
      "source": [
        "## Reducing Classification classes"
      ],
      "metadata": {
        "id": "yKzvaZJP1xaF"
      }
    },
    {
      "cell_type": "code",
      "source": [
        "y_map = {\n",
        "    'Database Developer': 'Database',\n",
        "    'Portal Administrator': 'Administrator',\n",
        "    'Systems Security Administrator': 'Administrator',\n",
        "    'Business Systems Analyst': 'Analyst',\n",
        "    'Software Systems Engineer': 'Engineer',\n",
        "    'Business Intelligence Analyst': 'Analyst',\n",
        "    'CRM Technical Developer': 'Developer',\n",
        "    'Mobile Applications Developer': 'Developer',\n",
        "    'UX Designer': 'Designer',\n",
        "    'Quality Assurance Associate': 'QA',\n",
        "    'Web Developer': 'Developer',\n",
        "    'Information Security Analyst': 'Analyst',\n",
        "    'CRM Business Analyst': 'Analyst',\n",
        "    'Technical Support': 'Support',\n",
        "    'Project Manager': 'Manager',\n",
        "    'Information Technology Manager': 'Manager',\n",
        "    'Programmer Analyst': 'Analyst',\n",
        "    'Design & UX': 'Designer',\n",
        "    'Solutions Architect': 'Engineer',\n",
        "    'Systems Analyst': 'Analyst',\n",
        "    'Network Security Administrator': 'Administrator',\n",
        "    'Data Architect': 'Database',\n",
        "    'Software Developer': 'Developer',\n",
        "    'E-Commerce Analyst': 'Analyst',\n",
        "    'Technical Services/Help Desk/Tech Support': 'Support',\n",
        "    'Information Technology Auditor': 'Auditor',\n",
        "    'Database Manager': 'Database',\n",
        "    'Applications Developer': 'Developer',\n",
        "    'Database Administrator': 'Database',\n",
        "    'Network Engineer': 'Engineer',\n",
        "    'Software Engineer': 'Egineer',\n",
        "    'Technical Engineer': 'Engineer',\n",
        "    'Network Security Engineer': 'Engineer',\n",
        "    'Software Quality Assurance (QA) / Testing': 'QA'\n",
        "}"
      ],
      "metadata": {
        "id": "dsKLb_D11wcn"
      },
      "execution_count": 15,
      "outputs": []
    },
    {
      "cell_type": "code",
      "source": [
        "y_new = list(y)\n",
        "for i in range(len(y_new)):\n",
        "  y_new[i] = y_map[y[i]]\n",
        "y_new = pd.core.series.Series(y_new)\n",
        "y_new"
      ],
      "metadata": {
        "colab": {
          "base_uri": "https://localhost:8080/"
        },
        "id": "TAgxOcmk3nCL",
        "outputId": "7e5b2b3c-d0e5-4128-ea24-fca51b2f5a05"
      },
      "execution_count": 43,
      "outputs": [
        {
          "output_type": "execute_result",
          "data": {
            "text/plain": [
              "0             Database\n",
              "1        Administrator\n",
              "2        Administrator\n",
              "3        Administrator\n",
              "4              Analyst\n",
              "             ...      \n",
              "19995         Engineer\n",
              "19996          Analyst\n",
              "19997          Analyst\n",
              "19998               QA\n",
              "19999        Developer\n",
              "Length: 20000, dtype: object"
            ]
          },
          "metadata": {},
          "execution_count": 43
        }
      ]
    },
    {
      "cell_type": "code",
      "source": [
        "y_new.unique()"
      ],
      "metadata": {
        "colab": {
          "base_uri": "https://localhost:8080/"
        },
        "id": "MU3gHlhZTOzx",
        "outputId": "34c3bea6-0729-49ba-bd7b-c744c95c236f"
      },
      "execution_count": 92,
      "outputs": [
        {
          "output_type": "execute_result",
          "data": {
            "text/plain": [
              "array(['Database', 'Administrator', 'Analyst', 'Engineer', 'Developer',\n",
              "       'Designer', 'QA', 'Support', 'Manager', 'Auditor', 'Egineer'],\n",
              "      dtype=object)"
            ]
          },
          "metadata": {},
          "execution_count": 92
        }
      ]
    },
    {
      "cell_type": "code",
      "source": [
        "D = encoded_X.copy()\n",
        "D['y'] = y_new\n",
        "D.head(2)"
      ],
      "metadata": {
        "colab": {
          "base_uri": "https://localhost:8080/",
          "height": 275
        },
        "id": "KIz_pKGI7_xe",
        "outputId": "975edb81-7a3d-415e-a259-6c4beb33bfd9"
      },
      "execution_count": 44,
      "outputs": [
        {
          "output_type": "execute_result",
          "data": {
            "text/plain": [
              "   Acedamic percentage in Operating Systems  percentage in Algorithms  \\\n",
              "0                                         2                         1   \n",
              "1                                         2                         1   \n",
              "\n",
              "   Percentage in Programming Concepts  Percentage in Software Engineering  \\\n",
              "0                                   2                                   2   \n",
              "1                                   2                                   1   \n",
              "\n",
              "   Percentage in Computer Networks  Percentage in Electronics Subjects  \\\n",
              "0                                2                                   2   \n",
              "1                                2                                   2   \n",
              "\n",
              "   Percentage in Computer Architecture  Percentage in Mathematics  \\\n",
              "0                                    2                          2   \n",
              "1                                    2                          2   \n",
              "\n",
              "   Percentage in Communication skills  Hours working per day  ...  \\\n",
              "0                                   1                      9  ...   \n",
              "1                                   2                     12  ...   \n",
              "\n",
              "   Interested Type of Books_Religion-Spirituality  \\\n",
              "0                                               0   \n",
              "1                                               0   \n",
              "\n",
              "   Interested Type of Books_Romance  Interested Type of Books_Satire  \\\n",
              "0                                 0                                0   \n",
              "1                                 0                                0   \n",
              "\n",
              "   Interested Type of Books_Science  Interested Type of Books_Science fiction  \\\n",
              "0                                 0                                         0   \n",
              "1                                 0                                         0   \n",
              "\n",
              "   Interested Type of Books_Self help  Interested Type of Books_Series  \\\n",
              "0                                   0                                0   \n",
              "1                                   0                                0   \n",
              "\n",
              "   Interested Type of Books_Travel  Interested Type of Books_Trilogy  \\\n",
              "0                                0                                 0   \n",
              "1                                0                                 0   \n",
              "\n",
              "               y  \n",
              "0       Database  \n",
              "1  Administrator  \n",
              "\n",
              "[2 rows x 101 columns]"
            ],
            "text/html": [
              "\n",
              "  <div id=\"df-447403e1-5966-41da-b64b-a67bc3711456\">\n",
              "    <div class=\"colab-df-container\">\n",
              "      <div>\n",
              "<style scoped>\n",
              "    .dataframe tbody tr th:only-of-type {\n",
              "        vertical-align: middle;\n",
              "    }\n",
              "\n",
              "    .dataframe tbody tr th {\n",
              "        vertical-align: top;\n",
              "    }\n",
              "\n",
              "    .dataframe thead th {\n",
              "        text-align: right;\n",
              "    }\n",
              "</style>\n",
              "<table border=\"1\" class=\"dataframe\">\n",
              "  <thead>\n",
              "    <tr style=\"text-align: right;\">\n",
              "      <th></th>\n",
              "      <th>Acedamic percentage in Operating Systems</th>\n",
              "      <th>percentage in Algorithms</th>\n",
              "      <th>Percentage in Programming Concepts</th>\n",
              "      <th>Percentage in Software Engineering</th>\n",
              "      <th>Percentage in Computer Networks</th>\n",
              "      <th>Percentage in Electronics Subjects</th>\n",
              "      <th>Percentage in Computer Architecture</th>\n",
              "      <th>Percentage in Mathematics</th>\n",
              "      <th>Percentage in Communication skills</th>\n",
              "      <th>Hours working per day</th>\n",
              "      <th>...</th>\n",
              "      <th>Interested Type of Books_Religion-Spirituality</th>\n",
              "      <th>Interested Type of Books_Romance</th>\n",
              "      <th>Interested Type of Books_Satire</th>\n",
              "      <th>Interested Type of Books_Science</th>\n",
              "      <th>Interested Type of Books_Science fiction</th>\n",
              "      <th>Interested Type of Books_Self help</th>\n",
              "      <th>Interested Type of Books_Series</th>\n",
              "      <th>Interested Type of Books_Travel</th>\n",
              "      <th>Interested Type of Books_Trilogy</th>\n",
              "      <th>y</th>\n",
              "    </tr>\n",
              "  </thead>\n",
              "  <tbody>\n",
              "    <tr>\n",
              "      <th>0</th>\n",
              "      <td>2</td>\n",
              "      <td>1</td>\n",
              "      <td>2</td>\n",
              "      <td>2</td>\n",
              "      <td>2</td>\n",
              "      <td>2</td>\n",
              "      <td>2</td>\n",
              "      <td>2</td>\n",
              "      <td>1</td>\n",
              "      <td>9</td>\n",
              "      <td>...</td>\n",
              "      <td>0</td>\n",
              "      <td>0</td>\n",
              "      <td>0</td>\n",
              "      <td>0</td>\n",
              "      <td>0</td>\n",
              "      <td>0</td>\n",
              "      <td>0</td>\n",
              "      <td>0</td>\n",
              "      <td>0</td>\n",
              "      <td>Database</td>\n",
              "    </tr>\n",
              "    <tr>\n",
              "      <th>1</th>\n",
              "      <td>2</td>\n",
              "      <td>1</td>\n",
              "      <td>2</td>\n",
              "      <td>1</td>\n",
              "      <td>2</td>\n",
              "      <td>2</td>\n",
              "      <td>2</td>\n",
              "      <td>2</td>\n",
              "      <td>2</td>\n",
              "      <td>12</td>\n",
              "      <td>...</td>\n",
              "      <td>0</td>\n",
              "      <td>0</td>\n",
              "      <td>0</td>\n",
              "      <td>0</td>\n",
              "      <td>0</td>\n",
              "      <td>0</td>\n",
              "      <td>0</td>\n",
              "      <td>0</td>\n",
              "      <td>0</td>\n",
              "      <td>Administrator</td>\n",
              "    </tr>\n",
              "  </tbody>\n",
              "</table>\n",
              "<p>2 rows × 101 columns</p>\n",
              "</div>\n",
              "      <button class=\"colab-df-convert\" onclick=\"convertToInteractive('df-447403e1-5966-41da-b64b-a67bc3711456')\"\n",
              "              title=\"Convert this dataframe to an interactive table.\"\n",
              "              style=\"display:none;\">\n",
              "        \n",
              "  <svg xmlns=\"http://www.w3.org/2000/svg\" height=\"24px\"viewBox=\"0 0 24 24\"\n",
              "       width=\"24px\">\n",
              "    <path d=\"M0 0h24v24H0V0z\" fill=\"none\"/>\n",
              "    <path d=\"M18.56 5.44l.94 2.06.94-2.06 2.06-.94-2.06-.94-.94-2.06-.94 2.06-2.06.94zm-11 1L8.5 8.5l.94-2.06 2.06-.94-2.06-.94L8.5 2.5l-.94 2.06-2.06.94zm10 10l.94 2.06.94-2.06 2.06-.94-2.06-.94-.94-2.06-.94 2.06-2.06.94z\"/><path d=\"M17.41 7.96l-1.37-1.37c-.4-.4-.92-.59-1.43-.59-.52 0-1.04.2-1.43.59L10.3 9.45l-7.72 7.72c-.78.78-.78 2.05 0 2.83L4 21.41c.39.39.9.59 1.41.59.51 0 1.02-.2 1.41-.59l7.78-7.78 2.81-2.81c.8-.78.8-2.07 0-2.86zM5.41 20L4 18.59l7.72-7.72 1.47 1.35L5.41 20z\"/>\n",
              "  </svg>\n",
              "      </button>\n",
              "      \n",
              "  <style>\n",
              "    .colab-df-container {\n",
              "      display:flex;\n",
              "      flex-wrap:wrap;\n",
              "      gap: 12px;\n",
              "    }\n",
              "\n",
              "    .colab-df-convert {\n",
              "      background-color: #E8F0FE;\n",
              "      border: none;\n",
              "      border-radius: 50%;\n",
              "      cursor: pointer;\n",
              "      display: none;\n",
              "      fill: #1967D2;\n",
              "      height: 32px;\n",
              "      padding: 0 0 0 0;\n",
              "      width: 32px;\n",
              "    }\n",
              "\n",
              "    .colab-df-convert:hover {\n",
              "      background-color: #E2EBFA;\n",
              "      box-shadow: 0px 1px 2px rgba(60, 64, 67, 0.3), 0px 1px 3px 1px rgba(60, 64, 67, 0.15);\n",
              "      fill: #174EA6;\n",
              "    }\n",
              "\n",
              "    [theme=dark] .colab-df-convert {\n",
              "      background-color: #3B4455;\n",
              "      fill: #D2E3FC;\n",
              "    }\n",
              "\n",
              "    [theme=dark] .colab-df-convert:hover {\n",
              "      background-color: #434B5C;\n",
              "      box-shadow: 0px 1px 3px 1px rgba(0, 0, 0, 0.15);\n",
              "      filter: drop-shadow(0px 1px 2px rgba(0, 0, 0, 0.3));\n",
              "      fill: #FFFFFF;\n",
              "    }\n",
              "  </style>\n",
              "\n",
              "      <script>\n",
              "        const buttonEl =\n",
              "          document.querySelector('#df-447403e1-5966-41da-b64b-a67bc3711456 button.colab-df-convert');\n",
              "        buttonEl.style.display =\n",
              "          google.colab.kernel.accessAllowed ? 'block' : 'none';\n",
              "\n",
              "        async function convertToInteractive(key) {\n",
              "          const element = document.querySelector('#df-447403e1-5966-41da-b64b-a67bc3711456');\n",
              "          const dataTable =\n",
              "            await google.colab.kernel.invokeFunction('convertToInteractive',\n",
              "                                                     [key], {});\n",
              "          if (!dataTable) return;\n",
              "\n",
              "          const docLinkHtml = 'Like what you see? Visit the ' +\n",
              "            '<a target=\"_blank\" href=https://colab.research.google.com/notebooks/data_table.ipynb>data table notebook</a>'\n",
              "            + ' to learn more about interactive tables.';\n",
              "          element.innerHTML = '';\n",
              "          dataTable['output_type'] = 'display_data';\n",
              "          await google.colab.output.renderOutput(dataTable, element);\n",
              "          const docLink = document.createElement('div');\n",
              "          docLink.innerHTML = docLinkHtml;\n",
              "          element.appendChild(docLink);\n",
              "        }\n",
              "      </script>\n",
              "    </div>\n",
              "  </div>\n",
              "  "
            ]
          },
          "metadata": {},
          "execution_count": 44
        }
      ]
    },
    {
      "cell_type": "code",
      "source": [
        "le = LabelEncoder()\n",
        "y = le.fit_transform(y_new)\n",
        "sns.set(font_scale=1)\n",
        "sns.histplot(y)"
      ],
      "metadata": {
        "colab": {
          "base_uri": "https://localhost:8080/",
          "height": 286
        },
        "id": "4UWkE8sW-rFu",
        "outputId": "6dcd6c8b-d799-4015-e123-25c64e4c3f9e"
      },
      "execution_count": 45,
      "outputs": [
        {
          "output_type": "execute_result",
          "data": {
            "text/plain": [
              "<matplotlib.axes._subplots.AxesSubplot at 0x7f50b8e70a50>"
            ]
          },
          "metadata": {},
          "execution_count": 45
        },
        {
          "output_type": "display_data",
          "data": {
            "text/plain": [
              "<Figure size 432x288 with 1 Axes>"
            ],
            "image/png": "[encoded data removed]"
          },
          "metadata": {}
        }
      ]
    },
    {
      "cell_type": "code",
      "source": [
        "X = encoded_X\n",
        "\n",
        "encoded_X.iloc[0]\n",
        "y = le.fit_transform(y_new)"
      ],
      "metadata": {
        "id": "Rkuy_iks_I56"
      },
      "execution_count": 46,
      "outputs": []
    },
    {
      "cell_type": "code",
      "source": [
        "std = StandardScaler()\n",
        "scaled = std.fit_transform(X,y)"
      ],
      "metadata": {
        "id": "ytZIPELf_Zjy"
      },
      "execution_count": 48,
      "outputs": []
    },
    {
      "cell_type": "markdown",
      "source": [
        "## Training the Models"
      ],
      "metadata": {
        "id": "Jh_GaVwRBWXx"
      }
    },
    {
      "cell_type": "code",
      "source": [
        "clf = MLPClassifier(\n",
        "    hidden_layer_sizes=(50, 50), activation='identity',\n",
        "    max_iter = 300, learning_rate_init = 0.01, random_state = 0,\n",
        "    verbose = True)"
      ],
      "metadata": {
        "id": "4c6Ue0S__yt4"
      },
      "execution_count": 87,
      "outputs": []
    },
    {
      "cell_type": "markdown",
      "source": [
        "### 60 - 40 split"
      ],
      "metadata": {
        "id": "OUcULe_qCbrQ"
      }
    },
    {
      "cell_type": "code",
      "source": [
        "X_train,X_test,y_train,y_test = train_test_split(scaled, y, train_size = 0.6, random_state = 0)\n",
        "X_train.shape, X_test.shape, y_train.shape, y_test.shape"
      ],
      "metadata": {
        "colab": {
          "base_uri": "https://localhost:8080/"
        },
        "id": "mS_1R1LKCaSb",
        "outputId": "5dee6a33-6610-4664-b691-e2d3cc727467"
      },
      "execution_count": 51,
      "outputs": [
        {
          "output_type": "execute_result",
          "data": {
            "text/plain": [
              "((12000, 100), (8000, 100), (12000,), (8000,))"
            ]
          },
          "metadata": {},
          "execution_count": 51
        }
      ]
    },
    {
      "cell_type": "code",
      "source": [
        "clf.fit(X_train,y_train)\n",
        "print(clf.score(X_test,y_test))"
      ],
      "metadata": {
        "colab": {
          "base_uri": "https://localhost:8080/"
        },
        "id": "p2l1eH4fHcKQ",
        "outputId": "87da90ea-a2b8-492d-9b74-d5645cc76c70"
      },
      "execution_count": 54,
      "outputs": [
        {
          "output_type": "stream",
          "name": "stdout",
          "text": [
            "Iteration 1, loss = 2.38322174\n",
            "Iteration 2, loss = 2.27266119\n",
            "Iteration 3, loss = 2.25823822\n",
            "Iteration 4, loss = 2.24798480\n",
            "Iteration 5, loss = 2.24347180\n",
            "Iteration 6, loss = 2.24310190\n",
            "Iteration 7, loss = 2.24065522\n",
            "Iteration 8, loss = 2.23857430\n",
            "Iteration 9, loss = 2.23669969\n",
            "Iteration 10, loss = 2.23578432\n",
            "Iteration 11, loss = 2.23684171\n",
            "Iteration 12, loss = 2.23588096\n",
            "Iteration 13, loss = 2.23561521\n",
            "Iteration 14, loss = 2.23487118\n",
            "Iteration 15, loss = 2.23489406\n",
            "Iteration 16, loss = 2.23567183\n",
            "Iteration 17, loss = 2.23282395\n",
            "Iteration 18, loss = 2.23405608\n",
            "Iteration 19, loss = 2.23317754\n",
            "Iteration 20, loss = 2.23269890\n",
            "Iteration 21, loss = 2.23375363\n",
            "Iteration 22, loss = 2.23415415\n",
            "Iteration 23, loss = 2.23393833\n",
            "Iteration 24, loss = 2.23357372\n",
            "Iteration 25, loss = 2.23523593\n",
            "Iteration 26, loss = 2.23478132\n",
            "Iteration 27, loss = 2.23336150\n",
            "Iteration 28, loss = 2.23303525\n",
            "Iteration 29, loss = 2.23397244\n",
            "Iteration 30, loss = 2.23549996\n",
            "Iteration 31, loss = 2.23439720\n",
            "Training loss did not improve more than tol=0.000100 for 10 consecutive epochs. Stopping.\n",
            "0.175625\n"
          ]
        }
      ]
    },
    {
      "cell_type": "markdown",
      "source": [
        "### 80 - 20 split"
      ],
      "metadata": {
        "id": "T_D8KVqFHv9N"
      }
    },
    {
      "cell_type": "code",
      "source": [
        "X_train,X_test,y_train,y_test = train_test_split(scaled, y, train_size = 0.80, random_state = 0)\n",
        "X_train.shape, X_test.shape, y_train.shape, y_test.shape"
      ],
      "metadata": {
        "colab": {
          "base_uri": "https://localhost:8080/"
        },
        "id": "M4OTkpbMHn27",
        "outputId": "6ba9e3ff-888e-445f-fb68-f95c8d66157a"
      },
      "execution_count": 88,
      "outputs": [
        {
          "output_type": "execute_result",
          "data": {
            "text/plain": [
              "((16000, 100), (4000, 100), (16000,), (4000,))"
            ]
          },
          "metadata": {},
          "execution_count": 88
        }
      ]
    },
    {
      "cell_type": "code",
      "source": [
        "clf.fit(X_train,y_train)\n",
        "print(clf.score(X_test,y_test))"
      ],
      "metadata": {
        "colab": {
          "base_uri": "https://localhost:8080/"
        },
        "id": "eUbg0UEQH5Ax",
        "outputId": "fd484289-78b6-40ec-d0db-fef8a77e0148"
      },
      "execution_count": 89,
      "outputs": [
        {
          "output_type": "stream",
          "name": "stdout",
          "text": [
            "Iteration 1, loss = 2.35640042\n",
            "Iteration 2, loss = 2.26292234\n",
            "Iteration 3, loss = 2.25067044\n",
            "Iteration 4, loss = 2.24507398\n",
            "Iteration 5, loss = 2.23989087\n",
            "Iteration 6, loss = 2.24244957\n",
            "Iteration 7, loss = 2.24055353\n",
            "Iteration 8, loss = 2.23830416\n",
            "Iteration 9, loss = 2.23650705\n",
            "Iteration 10, loss = 2.23754323\n",
            "Iteration 11, loss = 2.23563941\n",
            "Iteration 12, loss = 2.23533246\n",
            "Iteration 13, loss = 2.23563060\n",
            "Iteration 14, loss = 2.23502256\n",
            "Iteration 15, loss = 2.23627779\n",
            "Iteration 16, loss = 2.23723316\n",
            "Iteration 17, loss = 2.23584582\n",
            "Iteration 18, loss = 2.23732467\n",
            "Iteration 19, loss = 2.23631338\n",
            "Iteration 20, loss = 2.23750414\n",
            "Iteration 21, loss = 2.23602774\n",
            "Iteration 22, loss = 2.23675684\n",
            "Iteration 23, loss = 2.23691750\n",
            "Iteration 24, loss = 2.23629201\n",
            "Iteration 25, loss = 2.24006525\n",
            "Training loss did not improve more than tol=0.000100 for 10 consecutive epochs. Stopping.\n",
            "0.191\n"
          ]
        }
      ]
    },
    {
      "cell_type": "markdown",
      "source": [
        "### 90 - 10 split"
      ],
      "metadata": {
        "id": "MLfamDvuIO0P"
      }
    },
    {
      "cell_type": "code",
      "source": [
        "X_train,X_test,y_train,y_test = train_test_split(scaled, y, train_size = 0.90, random_state = 0)\n",
        "X_train.shape, X_test.shape, y_train.shape, y_test.shape"
      ],
      "metadata": {
        "colab": {
          "base_uri": "https://localhost:8080/"
        },
        "id": "7OtbmVxAIW0w",
        "outputId": "cadc9abd-e049-4ff1-8c63-3affd911c6b7"
      },
      "execution_count": 61,
      "outputs": [
        {
          "output_type": "execute_result",
          "data": {
            "text/plain": [
              "((18000, 100), (2000, 100), (18000,), (2000,))"
            ]
          },
          "metadata": {},
          "execution_count": 61
        }
      ]
    },
    {
      "cell_type": "code",
      "source": [
        "clf.fit(X_train,y_train)\n",
        "print(clf.score(X_test,y_test))"
      ],
      "metadata": {
        "colab": {
          "base_uri": "https://localhost:8080/"
        },
        "id": "pNd7J-gGINOk",
        "outputId": "d11aaad9-9944-43de-eef7-51e6aadeee47"
      },
      "execution_count": 62,
      "outputs": [
        {
          "output_type": "stream",
          "name": "stdout",
          "text": [
            "Iteration 1, loss = 2.34410629\n",
            "Iteration 2, loss = 2.26027107\n",
            "Iteration 3, loss = 2.25124445\n",
            "Iteration 4, loss = 2.24376846\n",
            "Iteration 5, loss = 2.24100699\n",
            "Iteration 6, loss = 2.24223637\n",
            "Iteration 7, loss = 2.23858995\n",
            "Iteration 8, loss = 2.23813897\n",
            "Iteration 9, loss = 2.23753659\n",
            "Iteration 10, loss = 2.23693580\n",
            "Iteration 11, loss = 2.23614874\n",
            "Iteration 12, loss = 2.23567985\n",
            "Iteration 13, loss = 2.23437459\n",
            "Iteration 14, loss = 2.23609331\n",
            "Iteration 15, loss = 2.23616536\n",
            "Iteration 16, loss = 2.23686777\n",
            "Iteration 17, loss = 2.23557343\n",
            "Iteration 18, loss = 2.23654128\n",
            "Iteration 19, loss = 2.23776301\n",
            "Iteration 20, loss = 2.23759528\n",
            "Iteration 21, loss = 2.23774172\n",
            "Iteration 22, loss = 2.23927541\n",
            "Iteration 23, loss = 2.23890243\n",
            "Iteration 24, loss = 2.23914842\n",
            "Training loss did not improve more than tol=0.000100 for 10 consecutive epochs. Stopping.\n",
            "0.1915\n"
          ]
        }
      ]
    },
    {
      "cell_type": "markdown",
      "source": [
        "## Classification report"
      ],
      "metadata": {
        "id": "pERMsPrBInbl"
      }
    },
    {
      "cell_type": "code",
      "source": [
        "pred = clf.predict(X_test)\n",
        "print(classification_report(y_test,pred))"
      ],
      "metadata": {
        "colab": {
          "base_uri": "https://localhost:8080/"
        },
        "id": "G8txifHMI4Kn",
        "outputId": "ed938c2e-8d0c-4166-8594-82346425f681"
      },
      "execution_count": 90,
      "outputs": [
        {
          "output_type": "stream",
          "name": "stdout",
          "text": [
            "              precision    recall  f1-score   support\n",
            "\n",
            "           0       0.08      0.00      0.01       477\n",
            "           1       0.20      0.85      0.32       772\n",
            "           2       0.00      0.00      0.00       112\n",
            "           3       0.00      0.00      0.00       463\n",
            "           4       0.00      0.00      0.00       211\n",
            "           5       0.14      0.07      0.09       583\n",
            "           6       0.00      0.00      0.00       103\n",
            "           7       0.19      0.11      0.14       592\n",
            "           8       0.00      0.00      0.00       230\n",
            "           9       0.00      0.00      0.00       241\n",
            "          10       0.00      0.00      0.00       216\n",
            "\n",
            "    accuracy                           0.19      4000\n",
            "   macro avg       0.06      0.09      0.05      4000\n",
            "weighted avg       0.10      0.19      0.10      4000\n",
            "\n"
          ]
        },
        {
          "output_type": "stream",
          "name": "stderr",
          "text": [
            "/usr/local/lib/python3.7/dist-packages/sklearn/metrics/_classification.py:1318: UndefinedMetricWarning: Precision and F-score are ill-defined and being set to 0.0 in labels with no predicted samples. Use `zero_division` parameter to control this behavior.\n",
            "  _warn_prf(average, modifier, msg_start, len(result))\n",
            "/usr/local/lib/python3.7/dist-packages/sklearn/metrics/_classification.py:1318: UndefinedMetricWarning: Precision and F-score are ill-defined and being set to 0.0 in labels with no predicted samples. Use `zero_division` parameter to control this behavior.\n",
            "  _warn_prf(average, modifier, msg_start, len(result))\n",
            "/usr/local/lib/python3.7/dist-packages/sklearn/metrics/_classification.py:1318: UndefinedMetricWarning: Precision and F-score are ill-defined and being set to 0.0 in labels with no predicted samples. Use `zero_division` parameter to control this behavior.\n",
            "  _warn_prf(average, modifier, msg_start, len(result))\n"
          ]
        }
      ]
    },
    {
      "cell_type": "markdown",
      "source": [
        "## Confusion Matrix"
      ],
      "metadata": {
        "id": "Z5k4XfNgHrxK"
      }
    },
    {
      "cell_type": "code",
      "source": [
        "pred = clf.predict(X_test)\n",
        "fig = plt.figure(figsize=(18,8))\n",
        "mat = (confusion_matrix(y_test,pred))\n",
        "sns.heatmap(mat,annot = True,cmap='Blues', annot_kws = {\"fontsize\":12} )"
      ],
      "metadata": {
        "colab": {
          "base_uri": "https://localhost:8080/",
          "height": 459
        },
        "id": "HfxTWEqVI5B0",
        "outputId": "19345f4f-c7c4-4eb3-f587-073319cc14d5"
      },
      "execution_count": 91,
      "outputs": [
        {
          "output_type": "execute_result",
          "data": {
            "text/plain": [
              "<matplotlib.axes._subplots.AxesSubplot at 0x7f50b4de03d0>"
            ]
          },
          "metadata": {},
          "execution_count": 91
        },
        {
          "output_type": "display_data",
          "data": {
            "text/plain": [
              "<Figure size 1296x576 with 2 Axes>"
            ],
            "image/png": "[encoded data removed]"
          },
          "metadata": {}
        }
      ]
    }
  ]
}